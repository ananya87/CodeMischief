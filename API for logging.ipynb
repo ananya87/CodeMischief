{
 "cells": [
  {
   "cell_type": "code",
   "execution_count": null,
   "metadata": {},
   "outputs": [],
   "source": [
    "from flask import Flask, request, jsonify\n",
    "    \n",
    "app = Flask(__name__)\n",
    "    \n",
    "    \n",
    "from flask import abort\n",
    "\n",
    "\n",
    "\n",
    "@app.route('/todo/api/v1.0/LOGS/<string:level>/<string:message>/<string:module>',methods=[\"GET\"])\n",
    "def LOGS(level,message,module):\n",
    "        \n",
    "    import logging\n",
    "    \n",
    "    #formatter = logging.Formatter('%(asctime)s~%(levelname)s~%(message)s~module:%(module)s')\n",
    "    formatter = logging.Formatter('%(asctime)s~%(message)s~')\n",
    "\n",
    "    logger = logging.getLogger()\n",
    "    \n",
    "    if not logger.handlers:\n",
    "        file_handler = logging.FileHandler(\"logfile1.log\")\n",
    "        file_handler.setLevel(logging.WARN)\n",
    "        file_handler.setFormatter(formatter)\n",
    "        \n",
    "        logger.addHandler(file_handler)\n",
    "        #logger.setLevel(logging.DEBUG)\n",
    "        \n",
    "        \n",
    "    \n",
    "        \n",
    "    \n",
    "    #if LOGS[log_id - 1]['title']=='Error':\n",
    "    #if level =='ERROR':\n",
    "    logger.error(\"Level:%s. Message:%s, Module:%s\",level,message,module)\n",
    "    #elif level=='CRITICAL':\n",
    "        #logger.critical(\"the log id is %d and level is %s\",log_id,level)\n",
    "    \n",
    "    #logger.warning(\\\"the log id is %d\\\",log_id)\\n\",\n",
    "    #logger.info(\\\"the log id is %d\\\",log_id)\\n\",\n",
    "    #logger.debug(\\\"the log id is %d\\\",log_id)\\n\",\n",
    "    return ('done')\n",
    "    \n",
    "if __name__ == '__main__':\n",
    "        app.run(debug=True,use_reloader=False)\n",
    "  \n",
    "    \n"
   ]
  }
 ],
 "metadata": {
  "kernelspec": {
   "display_name": "Python 3",
   "language": "python",
   "name": "python3"
  },
  "language_info": {
   "codemirror_mode": {
    "name": "ipython",
    "version": 3
   },
   "file_extension": ".py",
   "mimetype": "text/x-python",
   "name": "python",
   "nbconvert_exporter": "python",
   "pygments_lexer": "ipython3",
   "version": "3.8.3"
  }
 },
 "nbformat": 4,
 "nbformat_minor": 4
}
